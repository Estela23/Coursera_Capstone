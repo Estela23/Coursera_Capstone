# This notebook will be mainly used for the capstone project "The Battle of Neighborhoods"
import pandas as pd
import numpy as np
print("Hello Capstone Project Course!")
